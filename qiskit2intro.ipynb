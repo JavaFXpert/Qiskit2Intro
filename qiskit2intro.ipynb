{
  "cells": [
    {
      "cell_type": "markdown",
      "metadata": {
        "id": "view-in-github",
        "colab_type": "text"
      },
      "source": [
        "<a href=\"https://colab.research.google.com/github/JavaFXpert/Qiskit2Intro/blob/main/qiskit2intro.ipynb\" target=\"_parent\"><img src=\"https://colab.research.google.com/assets/colab-badge.svg\" alt=\"Open In Colab\"/></a>"
      ]
    },
    {
      "cell_type": "markdown",
      "id": "b90b0b9b",
      "metadata": {
        "id": "b90b0b9b"
      },
      "source": [
        "# Intro to Qiskit 2\n",
        "\n",
        "**Audience:** Learners with linear algebra and basic quantum mechanics background  \n",
        "**Goal:** Learn quantum computing concepts *and* Qiskit syntax through guided, runnable examples.\n",
        "  \n",
        "> We'll build intuition first, then code each idea with Qiskit 2.x primitives and visualizations.\n"
      ]
    },
    {
      "cell_type": "markdown",
      "id": "e800fb1a",
      "metadata": {
        "id": "e800fb1a"
      },
      "source": [
        "## 0. Setup\n",
        "\n",
        "We'll install and import what we need from Qiskit."
      ]
    },
    {
      "cell_type": "code",
      "source": [
        "!pip install qiskit[visualization] qiskit-ibm-runtime qiskit-aer"
      ],
      "metadata": {
        "id": "d-flWkuZ31bR"
      },
      "id": "d-flWkuZ31bR",
      "execution_count": null,
      "outputs": []
    },
    {
      "cell_type": "code",
      "execution_count": null,
      "id": "86289924",
      "metadata": {
        "id": "86289924"
      },
      "outputs": [],
      "source": [
        "# Core Qiskit imports\n",
        "from qiskit import QuantumCircuit, QuantumRegister, ClassicalRegister\n",
        "from qiskit.quantum_info import Statevector, SparsePauliOp, Pauli\n",
        "\n",
        "# Visualization (works with matplotlib)\n",
        "from qiskit.visualization import plot_bloch_multivector, plot_histogram\n",
        "\n",
        "from qiskit_aer import AerSimulator\n",
        "\n",
        "from qiskit.transpiler.preset_passmanagers import generate_preset_pass_manager\n",
        "from qiskit_ibm_runtime import SamplerV2 as Sampler, EstimatorV2 as Estimator, QiskitRuntimeService\n",
        "\n",
        "import numpy as np"
      ]
    },
    {
      "cell_type": "markdown",
      "id": "615c593f",
      "metadata": {
        "id": "615c593f"
      },
      "source": [
        "## 1. Qubits, Basis States, and Pauli Operators\n",
        "\n",
        "**Concept primer.** A single qubit lives in a 2‑dimensional complex vector space spanned by computational basis states $\\lvert 0\\rangle$ and $\\lvert 1\\rangle$.  \n",
        "The **Pauli operators** $X, Y, Z$ generate $\\pi$ rotations about their respective axes on the Bloch sphere. Global phase is physically unobservable, while *relative* phase matters. You may also visualize single qubit states in the [Grokking the Bloch Sphere](https://javafxpert.github.io/grok-bloch/) app."
      ]
    },
    {
      "cell_type": "code",
      "execution_count": null,
      "id": "7e3fffa3",
      "metadata": {
        "id": "7e3fffa3"
      },
      "outputs": [],
      "source": [
        "# Start with |0>, apply Pauli rotations, and view the resulting statevector\n",
        "\n",
        "# Create the statevector\n",
        "sv = Statevector.from_label('0')  # |0>\n",
        "\n",
        "# Create Pauli operators\n",
        "X = Pauli('X')\n",
        "Y = Pauli('Y')\n",
        "Z = Pauli('Z')\n",
        "\n",
        "# Apply the operators\n",
        "sv_x = sv.evolve(X)\n",
        "sv_y = sv.evolve(Y)\n",
        "sv_z = sv.evolve(Z)\n",
        "\n",
        "print(\"|0>  ->\", sv.data)\n",
        "print(\"X|0> ->\", sv_x.data)   # [0, 1]\n",
        "print(\"Y|0> ->\", sv_y.data)   # [0, i]\n",
        "print(\"Z|0> ->\", sv_z.data)   # [1, 0]"
      ]
    },
    {
      "cell_type": "code",
      "execution_count": null,
      "id": "deec20ff",
      "metadata": {
        "id": "deec20ff"
      },
      "outputs": [],
      "source": [
        "# Visualize |+> and |-> on the Bloch sphere to see *relative* phase\n",
        "plus = Statevector([1/np.sqrt(2), 1/np.sqrt(2)])\n",
        "minus = Statevector([1/np.sqrt(2), -1/np.sqrt(2)])\n",
        "\n",
        "plot_bloch_multivector(plus)  # |+>"
      ]
    },
    {
      "cell_type": "code",
      "source": [
        "plot_bloch_multivector(minus)  # |->"
      ],
      "metadata": {
        "id": "JXq8cf5O-Geq"
      },
      "id": "JXq8cf5O-Geq",
      "execution_count": null,
      "outputs": []
    },
    {
      "cell_type": "markdown",
      "id": "f4093564",
      "metadata": {
        "id": "f4093564"
      },
      "source": [
        "> **Concept Check:** Why does $Z\\lvert +\\rangle = \\lvert -\\rangle$ change the Bloch **longitude** but not move the state off the equator?"
      ]
    },
    {
      "cell_type": "markdown",
      "id": "f9b6e6bd",
      "metadata": {
        "id": "f9b6e6bd"
      },
      "source": [
        "## 2. Single‑Qubit Gates: H, S, T, and Phase\n",
        "\n",
        "**Concept primer.** The **Hadamard** gate creates equal superposition; **S** and **T** add phase shifts.  \n",
        "$H$ maps $\\lvert 0\\rangle \\mapsto \\lvert +\\rangle$ and $\\lvert 1\\rangle \\mapsto \\lvert -\\rangle$.\n",
        "\n",
        "**Note:** S = $R_z(\\pi/2)$, T = $R_z(\\pi/4)$."
      ]
    },
    {
      "cell_type": "code",
      "execution_count": null,
      "id": "713591a1",
      "metadata": {
        "id": "713591a1"
      },
      "outputs": [],
      "source": [
        "qc = QuantumCircuit(1)\n",
        "qc.h(0)\n",
        "qc.s(0)        # phase pi/2\n",
        "qc.t(0)        # phase pi/4\n",
        "qc.draw('mpl')"
      ]
    },
    {
      "cell_type": "code",
      "execution_count": null,
      "id": "8021924d",
      "metadata": {
        "id": "8021924d"
      },
      "outputs": [],
      "source": [
        "# Compare statevectors with and without global phase\n",
        "\n",
        "\n",
        "# Create circuit properly (separate steps)\n",
        "qc_h = QuantumCircuit(1)\n",
        "qc_h.h(0)\n",
        "sv_h = Statevector.from_instruction(qc_h)\n",
        "\n",
        "# Assuming 'qc' is defined elsewhere in your code\n",
        "sv_hst = Statevector.from_instruction(qc)\n",
        "\n",
        "# Print rounded data\n",
        "print(\"H|0>  :\", np.round(sv_h.data, 3))\n",
        "print(\"HST|0>:\", np.round(sv_hst.data, 3))\n",
        "\n",
        "# Plot visualization\n",
        "plot_bloch_multivector(sv_hst)"
      ]
    },
    {
      "cell_type": "markdown",
      "id": "bb982cdc",
      "metadata": {
        "id": "bb982cdc"
      },
      "source": [
        "> **Try (optional):** Replace `s; t` with a single `rz(theta)` and find a `theta` that matches the Bloch point above."
      ]
    },
    {
      "cell_type": "markdown",
      "id": "4938b03d",
      "metadata": {
        "id": "4938b03d"
      },
      "source": [
        "## 3. Superposition and Measurement Statistics\n",
        "\n",
        "**Concept primer.** Measurement in $Z$ collapses amplitudes to probabilities $p(0)=|a|^2$, $p(1)=|b|^2$.  \n",
        "We sample outcomes with **Sampler** and visualize histograms.\n",
        "\n",
        "When we measure a quantum state |ψ⟩ = a|0⟩ + b|1⟩, Born's rule tells us that the probability of measuring outcome '0' is |a|² and the probability of measuring outcome '1' is |b|². This is one of the fundamental postulates of quantum mechanics, introduced by Max Born in 1926."
      ]
    },
    {
      "cell_type": "code",
      "execution_count": null,
      "id": "f6501c8e",
      "metadata": {
        "id": "f6501c8e"
      },
      "outputs": [],
      "source": [
        "# Create a quantum circuit with 1 qubit and 1 classical bit for storing measurement\n",
        "qc = QuantumCircuit(1, 1)\n",
        "\n",
        "# Apply Hadamard gate to qubit 0 to create superposition state |+⟩ = (|0⟩ + |1⟩)/√2\n",
        "# This gives equal probability (50/50) of measuring 0 or 1\n",
        "qc.h(0)\n",
        "\n",
        "# Measure qubit 0 and store the result in classical bit 0\n",
        "# This collapses the superposition to either |0⟩ or |1⟩\n",
        "qc.measure(0, 0)\n",
        "\n",
        "# Initialize the Aer quantum simulator backend\n",
        "# AerSimulator is Qiskit's high-performance circuit simulator\n",
        "backend = AerSimulator()\n",
        "\n",
        "# Generate a pass manager to transpile the circuit for the backend\n",
        "# optimization_level=1 applies light optimizations while preserving circuit structure\n",
        "pm = generate_preset_pass_manager(backend=backend, optimization_level=1)\n",
        "\n",
        "# Transpile the circuit to match the backend's instruction set architecture (ISA)\n",
        "# This converts the logical circuit to a physical circuit executable on the backend\n",
        "isa_qc = pm.run(qc)\n",
        "\n",
        "# Create a Sampler primitive for running the circuit and collecting measurement statistics\n",
        "# The Sampler handles circuit execution and statistical sampling\n",
        "sampler = Sampler(mode=backend)\n",
        "\n",
        "# Execute the circuit 2000 times to gather statistics\n",
        "# Multiple shots are needed to observe the probabilistic nature of quantum measurements\n",
        "job = sampler.run([isa_qc], shots=2000)\n",
        "\n",
        "# Retrieve the results from the completed job\n",
        "result = job.result()\n",
        "\n",
        "# Extract the measurement counts from the classical register 'c'\n",
        "# counts will be a dictionary like {'0': ~1000, '1': ~1000} for this circuit\n",
        "counts = result[0].data.c.get_counts()\n",
        "\n",
        "# Visualize the measurement statistics as a histogram\n",
        "# Should show approximately equal bars for outcomes '0' and '1'\n",
        "plot_histogram(counts)"
      ]
    },
    {
      "cell_type": "markdown",
      "id": "50fb62f9",
      "metadata": {
        "id": "50fb62f9"
      },
      "source": [
        "## 4. Two Qubits: Tensor Products and Entanglement (Bell States)\n",
        "\n",
        "**Concept primer.** Multi‑qubit states live in tensor product spaces. Entanglement creates correlations not factorizable as single‑qubit products.\n",
        "\n",
        "In this example we create one of the four Bell states: $\\lvert \\Phi^+\\rangle = (\\lvert 00\\rangle + \\lvert 11\\rangle)/\\sqrt{2}$"
      ]
    },
    {
      "cell_type": "code",
      "execution_count": null,
      "id": "44a2585e",
      "metadata": {
        "id": "44a2585e"
      },
      "outputs": [],
      "source": [
        "bell = QuantumCircuit(2, 2)\n",
        "bell.h(0);\n",
        "bell.cx(0, 1)\n",
        "bell.measure([0,1], [0,1])\n",
        "bell.draw('mpl')"
      ]
    },
    {
      "cell_type": "code",
      "execution_count": null,
      "id": "a0af702c",
      "metadata": {
        "id": "a0af702c"
      },
      "outputs": [],
      "source": [
        "backend = AerSimulator()\n",
        "pm = generate_preset_pass_manager(backend=backend, optimization_level=1)\n",
        "isa_bell = pm.run(bell)\n",
        "sampler = Sampler(mode=backend)\n",
        "job = sampler.run([isa_bell], shots=1024)\n",
        "\n",
        "result = job.result()\n",
        "counts = result[0].data.c.get_counts()\n",
        "plot_histogram(counts)"
      ]
    },
    {
      "cell_type": "markdown",
      "id": "c838a9d7",
      "metadata": {
        "id": "c838a9d7"
      },
      "source": [
        "## 5. Building and Visualizing Circuits\n",
        "\n",
        "**Concept primer.** Circuits compose gates in time. Drawing styles aid communication and debugging."
      ]
    },
    {
      "cell_type": "code",
      "execution_count": null,
      "id": "e3399b04",
      "metadata": {
        "id": "e3399b04"
      },
      "outputs": [],
      "source": [
        "qc = QuantumCircuit(3, 3)\n",
        "qc.h(0)\n",
        "qc.cx(0,1)\n",
        "qc.cx(1,2)\n",
        "qc.barrier()\n",
        "qc.measure([0,1,2],[0,1,2])\n",
        "\n",
        "# Multiple drawer backends: 'mpl', 'text', 'latex'\n",
        "qc.draw('mpl')"
      ]
    },
    {
      "cell_type": "markdown",
      "id": "bc7231e1",
      "metadata": {
        "id": "bc7231e1"
      },
      "source": [
        "## 6. Parameterized Circuits\n",
        "\n",
        "**Concept primer.** Parameterized gates (e.g., `rx(theta)`) support sweeps and variational algorithms (VQE, QAOA). Continuous parameters are useful, for example, with optimization landscapes.\n",
        "\n",
        "This code demonstrates parameterized circuits by creating a quantum circuit with a symbolic parameter theta as a placeholder for the RY gate's rotation angle, rather than hard-coding a specific value. The circuit is compiled once into its hardware-compatible form (isa_pq), then reused with different theta values from 0 to 2π by creating (circuit, parameter_values) tuples. When the sampler executes, it binds each theta value at runtime and measures the circuit, showing how the probability of measuring |1⟩ varies according to sin²(θ/2) - from 0 at θ=0, peaking at 1 when θ=π, and returning to 0 at θ=2π. This approach is essential for variational algorithms like VQE and QAOA, where the same circuit structure must be evaluated repeatedly with different parameters during optimization, avoiding the overhead of recompiling for each parameter value."
      ]
    },
    {
      "cell_type": "code",
      "execution_count": null,
      "id": "93ed446b",
      "metadata": {
        "id": "93ed446b"
      },
      "outputs": [],
      "source": [
        "from qiskit.circuit import Parameter\n",
        "theta = Parameter('θ')\n",
        "\n",
        "pq = QuantumCircuit(1)\n",
        "pq.ry(theta, 0)\n",
        "pq.measure_all()\n",
        "\n",
        "backend = AerSimulator()\n",
        "pm = generate_preset_pass_manager(backend=backend, optimization_level=1)\n",
        "isa_pq = pm.run(pq)\n",
        "sampler = Sampler(mode=backend)\n",
        "thetas = np.linspace(0, 2*np.pi, 9)\n",
        "\n",
        "# Create list of (circuit, parameter_values) tuples for V2 API\n",
        "# PUB stands for Primitive Unified Bloc, which is a\n",
        "# single unit of work for a quantum primitive\n",
        "pub_list = [(isa_pq, {theta: t}) for t in thetas]\n",
        "\n",
        "# Run the sampler with V2 API format\n",
        "job = sampler.run(pub_list, shots=1000)\n",
        "result = job.result()\n",
        "\n",
        "# Collect P(1) estimates\n",
        "p1 = []\n",
        "for i in range(len(thetas)):\n",
        "    # Get the result for this parameter value\n",
        "    pub_result = result[i]\n",
        "    # Get counts from the data\n",
        "    counts = pub_result.data.meas.get_counts()\n",
        "    # Calculate probability of '1'\n",
        "    p1.append(counts.get('1', 0) / sum(counts.values()))\n",
        "\n",
        "# Display results\n",
        "print(list(zip(np.round(thetas, 2), np.round(p1, 3))))\n",
        "\n"
      ]
    },
    {
      "cell_type": "markdown",
      "id": "671ab5c2",
      "metadata": {
        "id": "671ab5c2"
      },
      "source": [
        "## 7. Primitives: Sampler and Estimator\n",
        "\n",
        "**Concept primer.** Qiskit **primitives** standardize how we request sampling (bitstring probabilities) and expectation values.\n",
        "\n",
        "- **Sampler:** returns bitstring distributions given circuits.\n",
        "- **Estimator:** returns expectation values of observables on states prepared by circuits."
      ]
    },
    {
      "cell_type": "code",
      "execution_count": null,
      "id": "1293b752",
      "metadata": {
        "id": "1293b752"
      },
      "outputs": [],
      "source": [
        "# This example demonstrates how to use the Estimator primitive to measure the\n",
        "# expectation value of an observable (ZZ) on a Bell state quantum circuit.\n",
        "\n",
        "# Create a Bell state circuit\n",
        "bell = QuantumCircuit(2)\n",
        "bell.h(0)\n",
        "bell.cx(0, 1)\n",
        "\n",
        "# Define the observable to measure - ZZ measures correlation between qubits\n",
        "# SparsePauliOp creates an operator from Pauli string notation\n",
        "observable = SparsePauliOp('ZZ')\n",
        "\n",
        "# Set up the backend simulator that the Estimator will use\n",
        "backend = AerSimulator()\n",
        "pm = generate_preset_pass_manager(backend=backend, optimization_level=1)\n",
        "isa_bell = pm.run(bell)\n",
        "\n",
        "# Apply the circuit's layout to the observable to ensure proper qubit mapping\n",
        "# This aligns the observable with how qubits were mapped during transpilation\n",
        "isa_observable = observable.apply_layout(isa_bell.layout)\n",
        "\n",
        "# Initialize the Estimator primitive with the specified backend\n",
        "# The Estimator is designed to compute expectation values of observables\n",
        "estimator = Estimator(mode=backend)\n",
        "\n",
        "# Run the Estimator job with circuit-observable pairs\n",
        "# The Estimator takes tuples of (circuit, observable) to evaluate\n",
        "job = estimator.run([(isa_bell, isa_observable)])\n",
        "result = job.result()\n",
        "\n",
        "# Extract the expectation value from the first (and only) pub result\n",
        "# pub_result contains the data for the circuit-observable pair\n",
        "pub_result = result[0]\n",
        "exp_val = pub_result.data.evs  # evs = expectation values\n",
        "\n",
        "# For a Bell state |00⟩ + |11⟩, the ZZ expectation value should be 1\n",
        "print(f'Expectation value for ZZ: {exp_val}')\n"
      ]
    },
    {
      "cell_type": "markdown",
      "id": "d0e96ae3",
      "metadata": {
        "id": "d0e96ae3"
      },
      "source": [
        "## 10. Dynamic Circuits and Classical Control Flow\n",
        "\n",
        "**Concept primer.** Mid‑circuit measurement and control flow enable feedback (e.g., quantum teleportation with conditional gates).\n",
        "\n",
        "**Example:** Quantum teleportation transfers an unknown quantum state between distant qubits using entanglement and classical communication. The protocol creates an entangled Bell pair, performs a Bell measurement on the sender's qubits, then applies corrective gates on the receiver's qubit based on the measurement results. Dynamic circuits are crucial because they enable real-time conditional operations—the if_test statements allow the circuit to measure qubits and immediately apply X or Z corrections based on those results within a single execution. Without dynamic circuits, teleportation would require multiple separate circuit runs, breaking the protocol's coherence.\n"
      ]
    },
    {
      "cell_type": "code",
      "execution_count": null,
      "id": "421b9f43",
      "metadata": {
        "id": "421b9f43"
      },
      "outputs": [],
      "source": [
        "# Create quantum and classical registers\n",
        "qr = QuantumRegister(3, 'q')  # 3 qubits: q0 (state to teleport), q1 (Alice's Bell), q2 (Bob's Bell)\n",
        "cr = ClassicalRegister(2, 'c')  # 2 classical bits for Bell measurement results\n",
        "qc = QuantumCircuit(qr, cr)\n",
        "\n",
        "# Step 1: Create the state to teleport (optional - for demonstration)\n",
        "# Here we'll create an arbitrary state on q0\n",
        "qc.ry(1.2, qr[0])  # Rotate Y to create |ψ⟩ = cos(0.6)|0⟩ + sin(0.6)|1⟩\n",
        "qc.barrier()\n",
        "\n",
        "# Step 2: Create Bell pair between Alice (q1) and Bob (q2)\n",
        "qc.h(qr[1])         # Hadamard on Alice's qubit\n",
        "qc.cx(qr[1], qr[2]) # CNOT to create entanglement\n",
        "qc.barrier()\n",
        "\n",
        "# Step 3: Bell measurement on Alice's side (q0 and q1)\n",
        "qc.cx(qr[0], qr[1]) # CNOT with state to teleport as control\n",
        "qc.h(qr[0])         # Hadamard on the state to teleport\n",
        "qc.barrier()\n",
        "\n",
        "# Step 4: Measure Alice's qubits\n",
        "qc.measure(qr[0], cr[0])\n",
        "qc.measure(qr[1], cr[1])\n",
        "qc.barrier()\n",
        "\n",
        "# Step 5: Apply corrections on Bob's side based on measurement results\n",
        "# If cr[1] == 1, apply X gate (bit flip)\n",
        "with qc.if_test((cr[1], 1)):\n",
        "    qc.x(qr[2])\n",
        "\n",
        "# If cr[0] == 1, apply Z gate (phase flip)\n",
        "with qc.if_test((cr[0], 1)):\n",
        "    qc.z(qr[2])\n",
        "\n",
        "# Draw the circuit\n",
        "qc.draw('mpl')"
      ]
    },
    {
      "cell_type": "markdown",
      "id": "67bd1fe8",
      "metadata": {
        "id": "67bd1fe8"
      },
      "source": [
        "## Wrap‑Up\n",
        "\n",
        "- You saw *state preparation → measurement → statistics* for single and multi‑qubit systems.\n",
        "- You learned how to use **Sampler** and **Estimator**, parameterized circuits, and basic transpilation.\n",
        "- You connected formal ideas (Born's rule, entanglement, Bell) to concrete Qiskit code.\n",
        "- You saw how to implement dynamic circuits in Qiskit.\n"
      ]
    }
  ],
  "metadata": {
    "kernelspec": {
      "display_name": "Python 3",
      "language": "python",
      "name": "python3"
    },
    "language_info": {
      "name": "python",
      "version": "3"
    },
    "colab": {
      "provenance": [],
      "include_colab_link": true
    }
  },
  "nbformat": 4,
  "nbformat_minor": 5
}
